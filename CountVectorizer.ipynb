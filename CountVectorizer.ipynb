{
  "nbformat": 4,
  "nbformat_minor": 0,
  "metadata": {
    "colab": {
      "provenance": []
    },
    "kernelspec": {
      "name": "python3",
      "display_name": "Python 3"
    },
    "language_info": {
      "name": "python"
    }
  },
  "cells": [
    {
      "cell_type": "markdown",
      "source": [],
      "metadata": {
        "id": "4bbL0zuxnjhI"
      }
    },
    {
      "cell_type": "code",
      "source": [
        "import pandas as pd\n",
        "from sklearn.model_selection import train_test_split"
      ],
      "metadata": {
        "id": "XF__32Funrex"
      },
      "execution_count": null,
      "outputs": []
    },
    {
      "cell_type": "code",
      "source": [
        "import pandas as pd\n",
        "test=pd.read_excel(\"/content/drive/MyDrive/CS338. Nhận dạng/Seminar/data/test_nor_811.xlsx\")\n",
        "train=pd.read_excel(\"/content/drive/MyDrive/CS338. Nhận dạng/Seminar/data/train_nor_811.xlsx\")\n",
        "dev=pd.read_excel(\"/content/drive/MyDrive/CS338. Nhận dạng/Seminar/data/valid_nor_811.xlsx\")"
      ],
      "metadata": {
        "id": "ZffUhHMOooVA"
      },
      "execution_count": null,
      "outputs": []
    },
    {
      "cell_type": "code",
      "source": [
        "x_test=test['Sentence']\n",
        "y_test=test['Emotion']\n",
        "\n",
        "x_train=train['Sentence']\n",
        "y_train=train['Emotion']\n",
        "\n",
        "x_dev=dev['Sentence']\n",
        "y_dev=dev['Emotion']"
      ],
      "metadata": {
        "id": "JNyiasaBo2WI"
      },
      "execution_count": null,
      "outputs": []
    },
    {
      "cell_type": "code",
      "source": [
        "y_train.value_counts()"
      ],
      "metadata": {
        "colab": {
          "base_uri": "https://localhost:8080/"
        },
        "id": "erG1AQFm-QpT",
        "outputId": "6a323b7d-0cb4-4f89-900e-54ceac5c1e76"
      },
      "execution_count": null,
      "outputs": [
        {
          "output_type": "execute_result",
          "data": {
            "text/plain": [
              "Enjoyment    1558\n",
              "Disgust      1071\n",
              "Other        1021\n",
              "Sadness       947\n",
              "Anger         391\n",
              "Fear          318\n",
              "Surprise      242\n",
              "Name: Emotion, dtype: int64"
            ]
          },
          "metadata": {},
          "execution_count": 4
        }
      ]
    },
    {
      "cell_type": "code",
      "source": [
        "label=y_train.unique()\n",
        "label"
      ],
      "metadata": {
        "colab": {
          "base_uri": "https://localhost:8080/"
        },
        "id": "SRftLLaT_BMb",
        "outputId": "b72c866d-1ea3-4766-cef5-a435f4d54aee"
      },
      "execution_count": null,
      "outputs": [
        {
          "output_type": "execute_result",
          "data": {
            "text/plain": [
              "array(['Other', 'Disgust', 'Enjoyment', 'Anger', 'Surprise', 'Sadness',\n",
              "       'Fear'], dtype=object)"
            ]
          },
          "metadata": {},
          "execution_count": 5
        }
      ]
    },
    {
      "cell_type": "code",
      "source": [
        "x_train"
      ],
      "metadata": {
        "colab": {
          "base_uri": "https://localhost:8080/"
        },
        "id": "xWdugkyojN8X",
        "outputId": "72542a62-9351-45d1-9d17-95be50e4a3c1"
      },
      "execution_count": null,
      "outputs": [
        {
          "output_type": "execute_result",
          "data": {
            "text/plain": [
              "0                   cho mình xin bài nhạc tên là gì với ạ\n",
              "1       cho đáng đời con quỷ . về nhà lôi con nhà mày ...\n",
              "2       lo học đi . yêu đương lol gì hay lại thích học...\n",
              "3         uớc gì sau này về già vẫn có thể như cụ này :))\n",
              "4       mỗi lần có video của con là cứ coi đi coi lại ...\n",
              "                              ...                        \n",
              "5543    đường của nhà cụ hay sao mà cụ cấm người ta đỗ...\n",
              "5544                               nhìn mặt héo queo luôn\n",
              "5545    tao đi xe máy mỗi lần muốn để xe đi đâu là phi...\n",
              "5546                      thích thân hình boss rồi nhan 😌\n",
              "5547    ước mơ nhỏ nhoi của tao là được làm chị mà khô...\n",
              "Name: Sentence, Length: 5548, dtype: object"
            ]
          },
          "metadata": {},
          "execution_count": 6
        }
      ]
    },
    {
      "cell_type": "code",
      "source": [
        "l=[]\n",
        "for i in range(len(x_train)):\n",
        "  l.append(len(x_train[i].split(\" \")))"
      ],
      "metadata": {
        "id": "qYs4xgPRBbma"
      },
      "execution_count": null,
      "outputs": []
    },
    {
      "cell_type": "code",
      "source": [
        "x_train"
      ],
      "metadata": {
        "colab": {
          "base_uri": "https://localhost:8080/"
        },
        "id": "NKYlyyI8pTgI",
        "outputId": "36dde4ca-fcd5-4097-9a6f-83d2e0bec766"
      },
      "execution_count": null,
      "outputs": [
        {
          "output_type": "execute_result",
          "data": {
            "text/plain": [
              "0                   cho mình xin bài nhạc tên là gì với ạ\n",
              "1       cho đáng đời con quỷ . về nhà lôi con nhà mày ...\n",
              "2       lo học đi . yêu đương lol gì hay lại thích học...\n",
              "3         uớc gì sau này về già vẫn có thể như cụ này :))\n",
              "4       mỗi lần có video của con là cứ coi đi coi lại ...\n",
              "                              ...                        \n",
              "5543    đường của nhà cụ hay sao mà cụ cấm người ta đỗ...\n",
              "5544                               nhìn mặt héo queo luôn\n",
              "5545    tao đi xe máy mỗi lần muốn để xe đi đâu là phi...\n",
              "5546                      thích thân hình boss rồi nhan 😌\n",
              "5547    ước mơ nhỏ nhoi của tao là được làm chị mà khô...\n",
              "Name: Sentence, Length: 5548, dtype: object"
            ]
          },
          "metadata": {},
          "execution_count": 8
        }
      ]
    },
    {
      "cell_type": "code",
      "source": [
        "dict={}\n",
        "for i in range(0,7):\n",
        "  dict[label[i]]=i\n",
        "dict"
      ],
      "metadata": {
        "id": "kkLpnAOhpPQ4",
        "colab": {
          "base_uri": "https://localhost:8080/"
        },
        "outputId": "4155d28b-9a01-42d8-9725-449249e27949"
      },
      "execution_count": null,
      "outputs": [
        {
          "output_type": "execute_result",
          "data": {
            "text/plain": [
              "{'Other': 0,\n",
              " 'Disgust': 1,\n",
              " 'Enjoyment': 2,\n",
              " 'Anger': 3,\n",
              " 'Surprise': 4,\n",
              " 'Sadness': 5,\n",
              " 'Fear': 6}"
            ]
          },
          "metadata": {},
          "execution_count": 9
        }
      ]
    },
    {
      "cell_type": "code",
      "source": [
        "y_train.replace(dict, inplace=True)\n",
        "y_dev.replace(dict, inplace=True)\n",
        "y_test.replace(dict, inplace=True)"
      ],
      "metadata": {
        "id": "tKBgfxSY_1TO"
      },
      "execution_count": null,
      "outputs": []
    },
    {
      "cell_type": "code",
      "source": [
        "'''x_train.to_csv(\"/content/drive/MyDrive/CS338. Nhận dạng/Seminar/data/x_train.csv\")\n",
        "y_train.to_csv(\"/content/drive/MyDrive/CS338. Nhận dạng/Seminar/data/y_train.csv\")\n",
        "x_test.to_csv(\"/content/drive/MyDrive/CS338. Nhận dạng/Seminar/data/x_test.csv\")\n",
        "y_test.to_csv(\"/content/drive/MyDrive/CS338. Nhận dạng/Seminar/data/y_test.csv\")'''"
      ],
      "metadata": {
        "id": "Kx4ynB-SpSgK",
        "colab": {
          "base_uri": "https://localhost:8080/",
          "height": 70
        },
        "outputId": "3ca1d370-144b-4cad-887b-dfd83874d92a"
      },
      "execution_count": null,
      "outputs": [
        {
          "output_type": "execute_result",
          "data": {
            "text/plain": [
              "'x_train.to_csv(\"/content/drive/MyDrive/CS338. Nhận dạng/Seminar/data/x_train.csv\")\\ny_train.to_csv(\"/content/drive/MyDrive/CS338. Nhận dạng/Seminar/data/y_train.csv\")\\nx_test.to_csv(\"/content/drive/MyDrive/CS338. Nhận dạng/Seminar/data/x_test.csv\")\\ny_test.to_csv(\"/content/drive/MyDrive/CS338. Nhận dạng/Seminar/data/y_test.csv\")'"
            ],
            "application/vnd.google.colaboratory.intrinsic+json": {
              "type": "string"
            }
          },
          "metadata": {},
          "execution_count": 11
        }
      ]
    },
    {
      "cell_type": "code",
      "source": [
        "class CounterVectorizer:\n",
        "    def __init__(self, max_features=5000):\n",
        "        self.max_features = max_features\n",
        "        self.vocab = {}\n",
        "        \n",
        "    def fit(self, data):\n",
        "        for document in data:\n",
        "            for word in document.split(\" \"):\n",
        "                if word not in self.vocab:\n",
        "                    self.vocab[word] = len(self.vocab)\n",
        "        \n",
        "        if self.max_features is not None:\n",
        "            feature_counts = [sum(1 for word in self.vocab if word in document.split(\" \")) for document in data]\n",
        "            feature_indices = sorted(range(len(feature_counts)), key=lambda i: feature_counts[i], reverse=True)[:self.max_features]\n",
        "            self.vocab = {word: idx for idx, word in enumerate(sorted(self.vocab, key=lambda word: self.vocab[word], reverse=True)[:self.max_features])}\n",
        "    \n",
        "    def transform(self, data):\n",
        "        features = []\n",
        "        for document in data:\n",
        "            doc_features = [0] * len(self.vocab)\n",
        "            for word in document.split(\" \"):\n",
        "                if word in self.vocab:\n",
        "                    doc_features[self.vocab[word]] += 1\n",
        "            features.append(doc_features)\n",
        "        return features\n",
        "    \n",
        "    def fit_transform(self, data):\n",
        "        self.fit(data)\n",
        "        return self.transform(data)\n",
        "\n",
        "vector=CounterVectorizer()\n",
        "X_train=vector.fit(x_train.values)\n",
        "X_train=vector.transform(x_train.values)\n",
        "X_test=vector.transform(x_test.values)\n",
        "X_dev=vector.transform(x_dev.values)\n",
        "\n",
        "import numpy as np\n",
        "X_train_1 = np.array(X_train)\n",
        "X_test_1=np.array(X_test)\n",
        "X_dev_1=np.array(X_dev)\n",
        "print(X_dev_1.shape)\n",
        "print(X_train_1.shape)\n",
        "print(X_test_1.shape)"
      ],
      "metadata": {
        "id": "qhTu7m6IkmSn",
        "colab": {
          "base_uri": "https://localhost:8080/"
        },
        "outputId": "ba194db6-c355-4172-ec30-d52d61a013a7"
      },
      "execution_count": null,
      "outputs": [
        {
          "output_type": "stream",
          "name": "stdout",
          "text": [
            "(686, 4642)\n",
            "(5548, 4642)\n",
            "(693, 4642)\n"
          ]
        }
      ]
    },
    {
      "cell_type": "code",
      "source": [
        "from sklearn.feature_extraction.text import TfidfVectorizer, CountVectorizer\n",
        "\n",
        "\n",
        "# create a count vectorizer object \n",
        "count_vect = CountVectorizer(analyzer='word', token_pattern=r'\\w{1,}')\n",
        "count_vect.fit(x_train)\n",
        "\n",
        "# transform the training and validation data using count vectorizer object\n",
        "X_data_count = count_vect.transform(x_train.values)\n",
        "X_test_count = count_vect.transform(x_test.values)\n"
      ],
      "metadata": {
        "id": "aGheWGSmye9K"
      },
      "execution_count": null,
      "outputs": []
    },
    {
      "cell_type": "code",
      "source": [
        "X_data_count.shape"
      ],
      "metadata": {
        "colab": {
          "base_uri": "https://localhost:8080/"
        },
        "id": "82zEd2nSzrYs",
        "outputId": "05c4b86b-a7b2-4b62-adf2-bdd04089b472"
      },
      "execution_count": null,
      "outputs": [
        {
          "output_type": "execute_result",
          "data": {
            "text/plain": [
              "(5548, 4174)"
            ]
          },
          "metadata": {},
          "execution_count": 14
        }
      ]
    },
    {
      "cell_type": "code",
      "source": [
        "from __future__ import print_function\n",
        "from sklearn.naive_bayes import MultinomialNB\n",
        "import numpy as np \n",
        "\n",
        "# train data\n",
        "\n",
        "\n",
        "## call MultinomialNB\n",
        "clf = MultinomialNB()\n",
        "# training \n",
        "clf.fit(X_train_1, y_train)\n",
        "\n",
        "# test\n",
        "y_pred=clf.predict(X_test_1)"
      ],
      "metadata": {
        "id": "4WYasWAysI2t"
      },
      "execution_count": null,
      "outputs": []
    },
    {
      "cell_type": "code",
      "source": [
        "y_test"
      ],
      "metadata": {
        "colab": {
          "base_uri": "https://localhost:8080/"
        },
        "id": "2uK4wbB70az0",
        "outputId": "91f64357-04f9-45dc-ea4d-5667f1241272"
      },
      "execution_count": null,
      "outputs": [
        {
          "output_type": "execute_result",
          "data": {
            "text/plain": [
              "0      5\n",
              "1      4\n",
              "2      1\n",
              "3      6\n",
              "4      3\n",
              "      ..\n",
              "688    5\n",
              "689    2\n",
              "690    4\n",
              "691    0\n",
              "692    4\n",
              "Name: Emotion, Length: 693, dtype: int64"
            ]
          },
          "metadata": {},
          "execution_count": 16
        }
      ]
    },
    {
      "cell_type": "code",
      "source": [
        "y_pred"
      ],
      "metadata": {
        "colab": {
          "base_uri": "https://localhost:8080/"
        },
        "id": "3lQH_2Ton5vf",
        "outputId": "fb1d0b0b-ef82-45c2-85ea-783f89471575"
      },
      "execution_count": null,
      "outputs": [
        {
          "output_type": "execute_result",
          "data": {
            "text/plain": [
              "array([2, 1, 1, 5, 1, 1, 0, 2, 0, 2, 0, 2, 1, 2, 5, 1, 1, 5, 0, 2, 5, 1,\n",
              "       2, 0, 0, 1, 5, 2, 1, 2, 1, 1, 5, 0, 5, 1, 1, 1, 1, 2, 3, 1, 1, 2,\n",
              "       0, 2, 1, 2, 5, 3, 0, 1, 1, 2, 5, 0, 6, 0, 1, 5, 5, 2, 3, 2, 2, 5,\n",
              "       0, 2, 2, 1, 1, 1, 2, 6, 5, 2, 2, 5, 0, 5, 6, 1, 2, 5, 6, 1, 2, 1,\n",
              "       0, 3, 5, 1, 0, 2, 5, 2, 2, 1, 2, 1, 5, 1, 1, 1, 0, 2, 6, 0, 0, 2,\n",
              "       5, 1, 1, 1, 2, 2, 0, 6, 0, 5, 5, 2, 5, 2, 2, 0, 2, 1, 5, 1, 5, 2,\n",
              "       0, 0, 2, 0, 2, 3, 2, 0, 2, 2, 0, 1, 2, 0, 2, 0, 1, 2, 1, 2, 4, 5,\n",
              "       5, 1, 2, 1, 5, 5, 1, 2, 2, 2, 0, 2, 5, 2, 2, 2, 2, 1, 0, 2, 2, 1,\n",
              "       0, 2, 2, 5, 1, 5, 5, 2, 2, 1, 2, 1, 1, 2, 1, 5, 2, 0, 2, 1, 1, 5,\n",
              "       2, 1, 2, 5, 1, 5, 5, 0, 1, 5, 2, 6, 0, 1, 1, 0, 2, 0, 2, 2, 2, 1,\n",
              "       2, 1, 1, 1, 2, 1, 5, 6, 2, 5, 2, 2, 1, 1, 5, 6, 1, 2, 5, 6, 2, 2,\n",
              "       5, 1, 1, 2, 1, 2, 0, 2, 0, 5, 4, 0, 1, 5, 5, 2, 2, 2, 5, 0, 2, 5,\n",
              "       2, 1, 0, 1, 2, 2, 1, 2, 6, 5, 0, 2, 1, 5, 2, 0, 2, 1, 0, 1, 0, 2,\n",
              "       5, 0, 1, 1, 1, 1, 1, 5, 1, 2, 5, 2, 2, 2, 2, 5, 2, 0, 3, 1, 1, 6,\n",
              "       0, 1, 1, 2, 1, 0, 1, 0, 1, 2, 3, 2, 1, 1, 2, 1, 6, 5, 1, 2, 1, 0,\n",
              "       1, 5, 2, 0, 0, 2, 5, 2, 1, 4, 1, 5, 4, 1, 2, 1, 0, 0, 0, 2, 1, 6,\n",
              "       0, 0, 5, 5, 3, 5, 6, 2, 2, 0, 2, 1, 1, 1, 0, 2, 5, 6, 5, 2, 6, 2,\n",
              "       2, 1, 1, 0, 2, 6, 1, 1, 3, 2, 5, 0, 2, 5, 2, 5, 3, 2, 5, 6, 2, 2,\n",
              "       2, 0, 6, 2, 0, 0, 2, 1, 1, 1, 1, 2, 0, 2, 0, 2, 2, 2, 1, 2, 1, 2,\n",
              "       1, 5, 1, 2, 2, 3, 1, 0, 5, 0, 5, 0, 2, 1, 1, 0, 5, 6, 2, 2, 1, 0,\n",
              "       2, 1, 5, 2, 3, 2, 3, 0, 5, 2, 0, 0, 2, 1, 2, 0, 0, 1, 1, 0, 0, 2,\n",
              "       2, 1, 2, 2, 2, 1, 0, 0, 1, 2, 0, 1, 5, 2, 2, 0, 5, 5, 2, 1, 1, 1,\n",
              "       2, 0, 2, 5, 2, 1, 1, 2, 5, 2, 1, 5, 2, 5, 2, 5, 2, 2, 2, 2, 1, 6,\n",
              "       5, 2, 5, 2, 1, 2, 2, 2, 2, 1, 0, 1, 4, 2, 0, 2, 0, 3, 2, 1, 2, 1,\n",
              "       5, 5, 2, 2, 2, 5, 2, 2, 2, 0, 2, 5, 6, 5, 0, 5, 2, 2, 2, 0, 1, 0,\n",
              "       5, 0, 2, 1, 2, 1, 0, 1, 2, 2, 1, 6, 2, 5, 0, 1, 1, 5, 3, 1, 1, 5,\n",
              "       3, 0, 1, 2, 2, 0, 2, 2, 2, 2, 2, 1, 1, 2, 5, 1, 2, 2, 1, 5, 0, 5,\n",
              "       1, 1, 1, 5, 3, 1, 0, 3, 5, 2, 2, 5, 1, 1, 1, 2, 5, 0, 2, 2, 2, 4,\n",
              "       2, 5, 3, 5, 2, 5, 2, 3, 1, 2, 1, 1, 1, 5, 2, 0, 0, 1, 2, 1, 0, 2,\n",
              "       0, 1, 0, 5, 0, 1, 2, 0, 5, 2, 2, 3, 1, 2, 2, 1, 2, 5, 5, 6, 1, 6,\n",
              "       5, 1, 0, 2, 6, 2, 3, 2, 2, 1, 0, 2, 2, 1, 2, 2, 2, 1, 1, 3, 1, 1,\n",
              "       1, 1, 2, 2, 2, 0, 1, 2, 2, 0, 2])"
            ]
          },
          "metadata": {},
          "execution_count": 17
        }
      ]
    },
    {
      "cell_type": "code",
      "source": [
        "from sklearn.metrics import classification_report\n",
        "print(\"results: \", classification_report(y_test,y_pred))"
      ],
      "metadata": {
        "id": "PeXK43TjrZfo",
        "colab": {
          "base_uri": "https://localhost:8080/"
        },
        "outputId": "553a5c36-231c-4594-ef9e-6773a48c72f1"
      },
      "execution_count": null,
      "outputs": [
        {
          "output_type": "stream",
          "name": "stdout",
          "text": [
            "results:                precision    recall  f1-score   support\n",
            "\n",
            "           0       0.45      0.39      0.42       129\n",
            "           1       0.45      0.62      0.52       132\n",
            "           2       0.56      0.68      0.62       193\n",
            "           3       0.48      0.28      0.35        40\n",
            "           4       0.67      0.11      0.19        37\n",
            "           5       0.59      0.56      0.58       116\n",
            "           6       0.74      0.43      0.55        46\n",
            "\n",
            "    accuracy                           0.53       693\n",
            "   macro avg       0.56      0.44      0.46       693\n",
            "weighted avg       0.54      0.53      0.51       693\n",
            "\n"
          ]
        }
      ]
    },
    {
      "cell_type": "code",
      "source": [
        "from sklearn.metrics import confusion_matrix\n",
        "\n",
        "# Tính toán ma trận nhầm lẫn\n",
        "cm = confusion_matrix(y_test, y_pred)\n",
        "cm"
      ],
      "metadata": {
        "colab": {
          "base_uri": "https://localhost:8080/"
        },
        "id": "cmMDF6N82ruP",
        "outputId": "0b837832-d470-4762-e1a9-f9177654c5d6"
      },
      "execution_count": null,
      "outputs": [
        {
          "output_type": "execute_result",
          "data": {
            "text/plain": [
              "array([[ 50,  28,  35,   1,   1,  13,   1],\n",
              "       [  9,  82,  22,   7,   0,   9,   3],\n",
              "       [ 21,  24, 132,   2,   1,  12,   1],\n",
              "       [  8,  15,   1,  11,   0,   3,   2],\n",
              "       [  9,   8,  13,   0,   4,   3,   0],\n",
              "       [  9,  18,  22,   2,   0,  65,   0],\n",
              "       [  4,   7,  10,   0,   0,   5,  20]])"
            ]
          },
          "metadata": {},
          "execution_count": 19
        }
      ]
    }
  ]
}